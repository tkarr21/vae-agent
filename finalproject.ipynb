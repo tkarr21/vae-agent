{
  "nbformat": 4,
  "nbformat_minor": 0,
  "metadata": {
    "colab": {
      "name": "finalproject.ipynb",
      "provenance": [],
      "collapsed_sections": [],
      "include_colab_link": true
    },
    "kernelspec": {
      "name": "python3",
      "display_name": "Python 3"
    },
    "accelerator": "GPU"
  },
  "cells": [
    {
      "cell_type": "markdown",
      "metadata": {
        "id": "view-in-github",
        "colab_type": "text"
      },
      "source": [
        "<a href=\"https://colab.research.google.com/github/tkarr21/vae-agent/blob/master/finalproject.ipynb\" target=\"_parent\"><img src=\"https://colab.research.google.com/assets/colab-badge.svg\" alt=\"Open In Colab\"/></a>"
      ]
    },
    {
      "cell_type": "markdown",
      "metadata": {
        "id": "i1PlV9BpIwnt",
        "colab_type": "text"
      },
      "source": [
        "#**VAE Agent**\n",
        "\n"
      ]
    },
    {
      "cell_type": "markdown",
      "metadata": {
        "id": "dQC2swtu_31J",
        "colab_type": "text"
      },
      "source": [
        "Init"
      ]
    },
    {
      "cell_type": "code",
      "metadata": {
        "id": "Irsk7XvZ_9q9",
        "colab_type": "code",
        "colab": {
          "base_uri": "https://localhost:8080/",
          "height": 34
        },
        "outputId": "96d96dbf-dca8-4e2f-b29f-fedc3e935f93"
      },
      "source": [
        "\n",
        "! pip3 install torch > /dev/null 2>&1\n",
        "# NOTE: Code within lines of '#' are for visualization and are optional\n",
        "####################\n",
        "!pip install gym pyvirtualdisplay > /dev/null 2>&1\n",
        "!apt-get install -y xvfb python-opengl ffmpeg > /dev/null 2>&1\n",
        "####################\n",
        "\n",
        "# particle environment repo\n",
        "! git clone https://github.com/tkarr21/multagent-particle-envs.git > /dev/null 2>&1\n",
        "\n",
        "%cd /content/multagent-particle-envs\n",
        "! pip3 install -e . > /dev/null 2>&1\n",
        "\n",
        "#FIXME\n",
        "# video_recorder.py capture_frame() frame = frame[0]\n",
        "\n"
      ],
      "execution_count": 1,
      "outputs": [
        {
          "output_type": "stream",
          "text": [
            "/content/multagent-particle-envs\n"
          ],
          "name": "stdout"
        }
      ]
    },
    {
      "cell_type": "code",
      "metadata": {
        "id": "VSq5lDJtR8ya",
        "colab_type": "code",
        "colab": {
          "base_uri": "https://localhost:8080/",
          "height": 34
        },
        "outputId": "7ad23e29-5646-4a71-a27a-3681411d0902"
      },
      "source": [
        "! git pull"
      ],
      "execution_count": 2,
      "outputs": [
        {
          "output_type": "stream",
          "text": [
            "Already up to date.\n"
          ],
          "name": "stdout"
        }
      ]
    },
    {
      "cell_type": "markdown",
      "metadata": {
        "id": "IQ1kPTz1_kVd",
        "colab_type": "text"
      },
      "source": [
        "##Dependencies and Visualization"
      ]
    },
    {
      "cell_type": "code",
      "metadata": {
        "id": "2nmqTKqNJy4-",
        "colab_type": "code",
        "colab": {}
      },
      "source": [
        "import gym\n",
        "import torch\n",
        "import torch.nn as nn\n",
        "from itertools import chain\n",
        "import matplotlib.pyplot as plt\n",
        "from tqdm import tqdm\n",
        "import random\n",
        "from torch.utils.data import Dataset, DataLoader\n",
        "import numpy as np\n",
        "from make_env import make_env\n",
        "\n",
        "####################\n",
        "# Import visualization dependencies\n",
        "from gym import logger as gymlogger\n",
        "gymlogger.set_level(40) #error only\n",
        "from gym.wrappers import Monitor\n",
        "gymlogger.set_level(40) #error only\n",
        "\n",
        "import math\n",
        "import glob\n",
        "import io\n",
        "import base64\n",
        "from IPython.display import HTML\n",
        "from IPython import display as ipythondisplay\n",
        "\n",
        "\n",
        "# Create a virtual display to allow visualization over Google Colab\n",
        "from pyvirtualdisplay import Display\n",
        "display = Display(visible=0, size=(1200, 1200))\n",
        "display.start()\n",
        "\n",
        "\n",
        "class MyMonitor(Monitor):\n",
        "\n",
        "    def _after_step(self, observation, reward, done, info):\n",
        "        if not self.enabled:\n",
        "            return done\n",
        "\n",
        "        if done and self.env_semantics_autoreset:\n",
        "            # For envs with BlockingReset wrapping VNCEnv, this observation\n",
        "            # will be the first one of the new episode\n",
        "            self._reset_video_recorder()\n",
        "            self.episode_id += 1\n",
        "            self._flush()\n",
        "\n",
        "        # Semisupervised envs modify the rewards, but we want the original when\n",
        "        # scoring\n",
        "        if info.get('true_reward', None):\n",
        "            reward = info['true_reward']\n",
        "\n",
        "        # Record stats\n",
        "        self.stats_recorder.after_step(\n",
        "            observation, np.sum(reward), any(done), info)\n",
        "        # Record video\n",
        "        self.video_recorder.capture_frame()\n",
        "        \n",
        "        return done\n",
        "\n",
        "# Show the recorded video\n",
        "def show_video():\n",
        "  mp4list = glob.glob('video/*.mp4')\n",
        "  if len(mp4list) > 0:\n",
        "    mp4 = mp4list[0]\n",
        "    video = io.open(mp4, 'r+b').read()\n",
        "    encoded = base64.b64encode(video)\n",
        "    ipythondisplay.display(HTML(data='''<video alt=\"test\" autoplay \n",
        "                loop controls style=\"height: 400px;\">\n",
        "                <source src=\"data:video/mp4;base64,{0}\" type=\"video/mp4\" />\n",
        "             </video>'''.format(encoded.decode('ascii'))))\n",
        "  else: \n",
        "    print(\"Could not find video\")\n",
        "\n",
        "# Wrap the environment to record each frame of the episode as a video\n",
        "def wrap_env(env):\n",
        "  env = MyMonitor(env, './video', force=True)\n",
        "  return env\n",
        "####################\n"
      ],
      "execution_count": 3,
      "outputs": []
    },
    {
      "cell_type": "markdown",
      "metadata": {
        "id": "X9lrgF81Mfqe",
        "colab_type": "text"
      },
      "source": [
        "###Debugging environmnet"
      ]
    },
    {
      "cell_type": "code",
      "metadata": {
        "id": "DgOUQUUeYUJ0",
        "colab_type": "code",
        "colab": {
          "base_uri": "https://localhost:8080/",
          "height": 761
        },
        "outputId": "898417f6-6b3f-4eba-e367-73575155a9da"
      },
      "source": [
        "from make_env import make_env\n",
        "\n",
        "env = wrap_env(make_env('simple'))\n",
        "\n",
        "#print(env.action_space[0])\n",
        "\n",
        "observation = env.reset() \n",
        "\n",
        "num_loop = 1\n",
        "loop = tqdm(total=num_loop, position=0, leave=False)\n",
        "\n",
        "for i in range(num_loop):\n",
        "    for step in range(20):\n",
        "        \n",
        "        env.render()\n",
        "\n",
        "        actions = []\n",
        "        onehot_actions = []\n",
        "        for i in range(env.n):\n",
        "            if i == env.n - 1:\n",
        "                role = 1\n",
        "            else:\n",
        "                role = 0\n",
        "            action = np.random.randint(env.action_space[i].n)\n",
        "            actions.append(action)\n",
        "            onehot_action = np.zeros(env.action_space[i].n)\n",
        "            #onehot_action[1] = 0.5\n",
        "\n",
        "            \n",
        "            #onehot_action[0] - stay    (no  p_vel)\n",
        "            #onehot_action[1] - right   (- x p_vel)\n",
        "            #onehot_action[2] - left    (+ x p_vel)\n",
        "            #onehot_action[3] - up      (- y p_vel)\n",
        "            #onehot_action[4] - down    (+ y p_vel)\n",
        "\n",
        "            onehot_action[1] = 0.5\n",
        "            #onehot_action[action] = .2 #movement rate\n",
        "            onehot_actions.append(onehot_action)\n",
        "\n",
        "        #          agent velocity    \n",
        "        # state = [x p_vel, y p_vel, x p_diff, y p_diff]\n",
        "        #                            differnce of physical positions \n",
        "        #                            landmark [x y] - agent [x y] \n",
        "        \n",
        "        next_state, reward, done, info = env.step(onehot_actions)\n",
        "        print(next_state)\n",
        "        # reward = np.clip(reward, -1., 1.)\n",
        "        \n",
        "        \n",
        "        if done[0]:\n",
        "            print(\"Episode finished after {} timesteps\".format(step + 1))\n",
        "            break\n",
        "        \n",
        "    loop.update(1)\n",
        "        \n",
        "\n",
        "env.close()\n",
        "show_video()"
      ],
      "execution_count": 4,
      "outputs": [
        {
          "output_type": "stream",
          "text": [
            "\r  0%|          | 0/1 [00:00<?, ?it/s]"
          ],
          "name": "stderr"
        },
        {
          "output_type": "stream",
          "text": [
            "[array([0.25      , 0.        , 0.11855502, 0.95583686])]\n",
            "[array([0.4375    , 0.        , 0.07480502, 0.95583686])]\n",
            "[array([0.578125  , 0.        , 0.01699252, 0.95583686])]\n",
            "[array([ 0.68359375,  0.        , -0.05136685,  0.95583686])]\n",
            "[array([ 0.76269531,  0.        , -0.12763638,  0.95583686])]\n",
            "[array([ 0.82202148,  0.        , -0.20983853,  0.95583686])]\n",
            "[array([ 0.86651611,  0.        , -0.29649014,  0.95583686])]\n",
            "[array([ 0.89988708,  0.        , -0.38647885,  0.95583686])]\n",
            "[array([ 0.92491531,  0.        , -0.47897038,  0.95583686])]\n",
            "[array([ 0.94368649,  0.        , -0.57333903,  0.95583686])]\n",
            "[array([ 0.95776486,  0.        , -0.66911552,  0.95583686])]\n",
            "[array([ 0.96832365,  0.        , -0.76594788,  0.95583686])]\n"
          ],
          "name": "stdout"
        },
        {
          "output_type": "stream",
          "text": [
            "\r100%|██████████| 1/1 [00:00<00:00,  2.48it/s]"
          ],
          "name": "stderr"
        },
        {
          "output_type": "stream",
          "text": [
            "[array([ 0.97624274,  0.        , -0.86357216,  0.95583686])]\n",
            "[array([ 0.98218205,  0.        , -0.96179036,  0.95583686])]\n",
            "[array([ 0.98663654,  0.        , -1.06045402,  0.95583686])]\n",
            "[array([ 0.9899774 ,  0.        , -1.15945176,  0.95583686])]\n",
            "[array([ 0.99248305,  0.        , -1.25870006,  0.95583686])]\n",
            "[array([ 0.99436229,  0.        , -1.35813629,  0.95583686])]\n",
            "[array([ 0.99577172,  0.        , -1.45771346,  0.95583686])]\n",
            "[array([ 0.99682879,  0.        , -1.55739634,  0.95583686])]\n"
          ],
          "name": "stdout"
        },
        {
          "output_type": "display_data",
          "data": {
            "text/html": [
              "<video alt=\"test\" autoplay \n",
              "                loop controls style=\"height: 400px;\">\n",
              "                <source src=\"data:video/mp4;base64,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\" type=\"video/mp4\" />\n",
              "             </video>"
            ],
            "text/plain": [
              "<IPython.core.display.HTML object>"
            ]
          },
          "metadata": {
            "tags": []
          }
        }
      ]
    },
    {
      "cell_type": "markdown",
      "metadata": {
        "id": "vAwigowaABHv",
        "colab_type": "text"
      },
      "source": [
        "##Modules"
      ]
    },
    {
      "cell_type": "markdown",
      "metadata": {
        "id": "T9qfUXgmePMJ",
        "colab_type": "text"
      },
      "source": [
        "###Encoder, Decoder, VAE"
      ]
    },
    {
      "cell_type": "code",
      "metadata": {
        "id": "kZhJ56Sx0KpK",
        "colab_type": "code",
        "colab": {}
      },
      "source": [
        "class Encoder(nn.Module):\n",
        "  def __init__(self, state_size, latent_dim):\n",
        "    \"\"\"Fully connected network to mu and sigma \n",
        "\n",
        "      args:\n",
        "      state_size - number of incoming state variables from environment\n",
        "      latent_dim - number of dimensions of the latent space\n",
        "    \"\"\"\n",
        "\n",
        "    super().__init__()\n",
        "\n",
        "    hidden_size = 8\n",
        "    \n",
        "    self.net = nn.Sequential(nn.Linear(state_size, hidden_size),\n",
        "                             nn.ReLU(),\n",
        "                             nn.Linear(hidden_size, hidden_size),\n",
        "                             nn.ReLU(),\n",
        "                             nn.Linear(hidden_size, hidden_size),\n",
        "                             nn.ReLU(),\n",
        "                             nn.Linear(hidden_size, hidden_size))\n",
        "    \n",
        "    #mu\n",
        "    self.g = nn.Linear(hidden_size, latent_dim)\n",
        "\n",
        "    #sigma\n",
        "    self.h = nn.Linear(hidden_size, latent_dim)\n",
        "\n",
        "\n",
        "  def forward(self, x):\n",
        "    \"\"\" Encode input to latent space\n",
        "    \"\"\"\n",
        "\n",
        "    out = self.net(x)\n",
        "\n",
        "    return self.g(out), self.h(out)\n",
        "\n",
        "\n",
        "\n",
        "class Decoder(nn.Module):\n",
        "  def __init__(self, latent_dim, action_size, device='cpu'):\n",
        "    \"\"\" vanilla fully connected network\n",
        "\n",
        "      args:\n",
        "      action_size - number of available actions to agent\n",
        "      latent_dim - number of dimensions of the latent space\n",
        "    \"\"\"\n",
        "    super().__init__()\n",
        "\n",
        "    self.device = device\n",
        "    hidden_size = 8\n",
        "    self.latent_dim = latent_dim\n",
        "    \n",
        "    self.net = nn.Sequential(nn.Linear(latent_dim, hidden_size),\n",
        "                             nn.ReLU(),\n",
        "                             nn.Linear(hidden_size, hidden_size),\n",
        "                             nn.ReLU(),\n",
        "                             nn.Linear(hidden_size, hidden_size),\n",
        "                             nn.ReLU(),\n",
        "                             nn.Linear(hidden_size, action_size),\n",
        "                             nn.Softmax(dim=1))\n",
        "\n",
        "\n",
        "  def forward(self, mean, var):\n",
        "    \"\"\" decode from latent space\n",
        "\n",
        "        args:\n",
        "        mean - tensor of \n",
        "    \"\"\"\n",
        "    # sample trick\n",
        "    zeta = torch.randn(self.latent_dim).to(self.device) # requires_grad=False by default\n",
        "    z = var * zeta + mean\n",
        "    \n",
        "    return self.net(z)\n",
        "\n",
        "\n",
        "\n",
        "\n",
        "class VAE(nn.Module):\n",
        "  def __init__(self, state_size, action_size, latent_dim, device='cpu'):\n",
        "    super().__init__()\n",
        "\n",
        "    self.encoder = Encoder(state_size, latent_dim)\n",
        "    self.decoder = Decoder(latent_dim, action_size, device)\n",
        "\n",
        "\n",
        "  def forward(self, x):\n",
        "\n",
        "    mu, sigma = self.encoder(x)\n",
        "    return self.decoder(mu, sigma)\n",
        "\n"
      ],
      "execution_count": 5,
      "outputs": []
    },
    {
      "cell_type": "markdown",
      "metadata": {
        "id": "QzQtsLU9qb4a",
        "colab_type": "text"
      },
      "source": [
        "##Lab 10 code\n",
        "\n",
        "https://colab.research.google.com/drive/1-xU1-32NgYYT7dL4KCtAe4IeySHfbGHu?usp=sharing\n",
        "\n",
        "Changes:\n",
        "- multiagent particle environment\n",
        "\n",
        "- replace policy network with VAE\n",
        "\n",
        "- some adjustments for passing the \"state\" \"next_state\" variables"
      ]
    },
    {
      "cell_type": "markdown",
      "metadata": {
        "id": "9joSuGdCqIsS",
        "colab_type": "text"
      },
      "source": [
        "###Value Network/Dataset wrapper"
      ]
    },
    {
      "cell_type": "code",
      "metadata": {
        "id": "IteFHbb5qJE-",
        "colab_type": "code",
        "colab": {}
      },
      "source": [
        "# Dataset that wraps memory for a dataloader\n",
        "class RLDataset(Dataset):\n",
        "  def __init__(self, data):\n",
        "    super().__init__()\n",
        "    self.data = []\n",
        "    for d in data:\n",
        "      self.data.append(d)\n",
        "  \n",
        "  def __getitem__(self, index):\n",
        "    return self.data[index]\n",
        " \n",
        "  def __len__(self):\n",
        "    return len(self.data)\n",
        "\n",
        "    \n",
        "\n",
        "# Value Network\n",
        "class ValueNetwork(nn.Module):\n",
        "  def __init__(self, state_size):\n",
        "    super().__init__()\n",
        "    hidden_size = 8\n",
        "  \n",
        "    self.net = nn.Sequential(nn.Linear(state_size, hidden_size),\n",
        "                             nn.ReLU(),\n",
        "                             nn.Linear(hidden_size, hidden_size),\n",
        "                             nn.ReLU(),\n",
        "                             nn.Linear(hidden_size, hidden_size),\n",
        "                             nn.ReLU(),\n",
        "                             nn.Linear(hidden_size, 1))\n",
        "    \n",
        "  def forward(self, x):\n",
        "    \"\"\"Estimate value given state\n",
        "\n",
        "      Args:\n",
        "          state (tensor): current state, size (batch x state_size)\n",
        "\n",
        "      Returns:\n",
        "          value (tensor): estimated value, size (batch)\n",
        "    \"\"\"\n",
        "    return self.net(x)"
      ],
      "execution_count": 6,
      "outputs": []
    },
    {
      "cell_type": "markdown",
      "metadata": {
        "id": "E0BEqLPsm9VL",
        "colab_type": "text"
      },
      "source": [
        "###Helper Functions\n"
      ]
    },
    {
      "cell_type": "code",
      "metadata": {
        "id": "HtaL64lDZQsQ",
        "colab_type": "code",
        "colab": {}
      },
      "source": [
        "device = 'cpu'\n",
        "\n",
        "def calculate_return(memory, rollout, gamma):\n",
        "  \"\"\"Return memory with calculated return in experience tuple\n",
        "\n",
        "    Args:\n",
        "        memory (list): (state, action, action_dist, return) tuples\n",
        "        rollout (list): (state, action, action_dist, reward) tuples from last rollout\n",
        "        gamma (float): discount factor\n",
        "\n",
        "    Returns:\n",
        "        list: memory updated with (state, action, action_dist, return) tuples from rollout\n",
        "  \"\"\"\n",
        "\n",
        "  retval = 0\n",
        "  for state, action, action_dist, reward in reversed(rollout):\n",
        "    retval = reward + retval * gamma \n",
        "    memory.append((state, action, action_dist, retval))\n",
        "\n",
        "  return memory\n",
        "\n",
        "def get_action_ppo(network, state):\n",
        "  \"\"\"Sample action from the distribution obtained from the policy network\n",
        "\n",
        "    Args:\n",
        "        network (PolicyNetwork): Policy Network\n",
        "        state (np-array): current state, size (state_size)\n",
        "\n",
        "    Returns:\n",
        "        int: action sampled from output distribution of policy network\n",
        "        array: output distribution of policy network\n",
        "  \"\"\"\n",
        "\n",
        "  with torch.no_grad():\n",
        "    a_dist = network(torch.tensor(state, dtype=torch.float).to(device).unsqueeze(0))\n",
        "\n",
        "\n",
        "    a_detached = a_dist.cpu().detach().numpy()[0].astype(np.float64)#to(device)\n",
        "\n",
        "    a_detached = a_detached / np.linalg.norm(a_detached, ord=1, keepdims=True)\n",
        "  \n",
        "\n",
        "    random_action = np.argmax(np.random.multinomial(1, a_detached))\n",
        "    \n",
        "    return random_action, a_dist\n"
      ],
      "execution_count": 7,
      "outputs": []
    },
    {
      "cell_type": "code",
      "metadata": {
        "id": "zcy0YPZgub7Q",
        "colab_type": "code",
        "colab": {}
      },
      "source": [
        "def learn_ppo(optim, policy, value, memory_dataloader, epsilon, policy_epochs):\n",
        "\n",
        "  for _ in range(policy_epochs):\n",
        "    for state, action, action_dist, retval in memory_dataloader:\n",
        "      optim.zero_grad()\n",
        "\n",
        "      state = state.float().to(device)\n",
        "      retval = retval.to(device)\n",
        "\n",
        "      estimated_return = retval - value(state).squeeze(1)\n",
        "\n",
        "      v_loss = (estimated_return**2).mean()\n",
        "\n",
        "      advantage = estimated_return\n",
        "      advantage = advantage.detach()\n",
        "      current_action_dist = policy(state)\n",
        "\n",
        "      cur_prob = current_action_dist.squeeze(1)[range(current_action_dist.shape[0]), action]\n",
        "      old_prob = action_dist.squeeze(1)[range(action_dist.shape[0]), action]\n",
        "\n",
        "      ratio = cur_prob / old_prob\n",
        "\n",
        "      left = ratio * advantage\n",
        "      right = torch.clamp(ratio, 1-epsilon, 1+epsilon) * advantage\n",
        "\n",
        "      p_loss = torch.min(left,right)\n",
        "      p_loss = -torch.mean(p_loss)\n",
        "\n",
        "      loss = p_loss + v_loss\n",
        "\n",
        "      # was missing v_loss\n",
        "      v_loss.backward()\n",
        "      p_loss.backward()\n",
        "      optim.step()"
      ],
      "execution_count": 8,
      "outputs": []
    },
    {
      "cell_type": "markdown",
      "metadata": {
        "id": "GiEyMQtgdlr-",
        "colab_type": "text"
      },
      "source": [
        "##Main\n"
      ]
    },
    {
      "cell_type": "code",
      "metadata": {
        "id": "fMvWOFbNdqiU",
        "colab_type": "code",
        "colab": {
          "base_uri": "https://localhost:8080/",
          "height": 34
        },
        "outputId": "09905fc3-dd99-492a-b72e-9466a3bb1be2"
      },
      "source": [
        "def ppo_main():\n",
        "  # Hyper parameters\n",
        "  lr = 1e-3\n",
        "  epochs = 50\n",
        "  env_samples = 100\n",
        "  gamma = 0.9   #TODO .99\n",
        "  batch_size = 256\n",
        "  epsilon = 0.2\n",
        "  policy_epochs = 5\n",
        "  latent_dim = 5  #TODO 1+\n",
        "  movement_rate = .2\n",
        "\n",
        "  # Init environment \n",
        "  state_size = 4\n",
        "  action_size = 5\n",
        "  \n",
        "\n",
        "  #env = gym.make('CartPole-v1')\n",
        "  env = make_env('simple')\n",
        "\n",
        "  # Init networks\n",
        "  #policy_network = PolicyNetwork(state_size, action_size).to(device)\n",
        "  policy_network = VAE(state_size, action_size, latent_dim, device).to(device)\n",
        "  value_network = ValueNetwork(state_size).to(device)\n",
        "\n",
        "  # Init optimizer\n",
        "  optim = torch.optim.Adam(chain(policy_network.parameters(), value_network.parameters()), lr=lr)\n",
        "\n",
        "  # Start main loop\n",
        "  results_ppo = []\n",
        "  loop = tqdm(total=epochs, position=0, leave=False)\n",
        "  for epoch in range(epochs):\n",
        "    \n",
        "    ######################\n",
        "    # Wrap environment to record a video of the last training episode\n",
        "    last_epoch = (epoch+1 == epochs)\n",
        "    if last_epoch:\n",
        "      env = wrap_env(env)\n",
        "    ######################\n",
        "    \n",
        "    memory = []  # Reset memory every epoch\n",
        "    rewards = []  # Calculate average episodic reward per epoch\n",
        "\n",
        "    # Begin experience loop\n",
        "    for episode in range(env_samples):\n",
        "      \n",
        "      # Reset environment\n",
        "      state = env.reset()\n",
        "      state = state[0]\n",
        "\n",
        "      done = False\n",
        "      rollout = []\n",
        "      cum_reward = 0  # Track cumulative reward\n",
        "      reward = 10\n",
        "      time_out = 0\n",
        "\n",
        "      # Begin episode\n",
        "      while reward != 0 and time_out < 200: #not done and cum_reward < 200:  # End after 200 steps   \n",
        "\n",
        "        time_out += 1\n",
        "\n",
        "        # Get action\n",
        "        action, action_dist = get_action_ppo(policy_network, state)\n",
        "\n",
        "\n",
        "        # one hot encode and put in a list for multi agent env\n",
        "        onehot_action = np.zeros(env.action_space[0].n)\n",
        "        onehot_action[action] = movement_rate\n",
        "\n",
        "        onehot_actions = []\n",
        "        onehot_actions += [onehot_action]\n",
        "\n",
        "\n",
        "\n",
        "        # Take step\n",
        "        next_state, reward, done, _ = env.step(onehot_actions)\n",
        "\n",
        "        next_state = next_state[0]\n",
        "        reward = reward[0]\n",
        "        done = done[0]\n",
        "\n",
        "        # env.render()\n",
        "\n",
        "        # Store step\n",
        "        rollout.append((state, action, action_dist, reward))\n",
        "\n",
        "        cum_reward += reward\n",
        "        state = next_state  # Set current state\n",
        "\n",
        "        \n",
        "      # Calculate returns and add episode to memory\n",
        "      memory = calculate_return(memory, rollout, gamma)\n",
        "\n",
        "      rewards.append(cum_reward)\n",
        "    \n",
        "      ######################\n",
        "      # If the environment is not manually closed, resetting it could throw an error\n",
        "      env.close()\n",
        "      ######################\n",
        "      \n",
        "    # Train\n",
        "    dataset = RLDataset(memory)\n",
        "    loader = DataLoader(dataset, batch_size=batch_size, shuffle=True)\n",
        "    learn_ppo(optim, policy_network, value_network, loader, epsilon, policy_epochs)\n",
        "    \n",
        "    # Print results\n",
        "    results_ppo.extend(rewards)  # Store rewards for this epoch\n",
        "    loop.update(1)\n",
        "    loop.set_description(\"Epochs: {} Reward: {}\".format(epoch, results_ppo[-1]))\n",
        "\n",
        "  return results_ppo, policy_network\n",
        "\n",
        "results_ppo, vae = ppo_main()"
      ],
      "execution_count": 9,
      "outputs": [
        {
          "output_type": "stream",
          "text": [
            "Epochs: 49 Reward: -84.19183345400793: 100%|██████████| 50/50 [08:55<00:00, 11.68s/it]"
          ],
          "name": "stderr"
        }
      ]
    },
    {
      "cell_type": "markdown",
      "metadata": {
        "id": "Cz5nuYS0n68X",
        "colab_type": "text"
      },
      "source": [
        ""
      ]
    },
    {
      "cell_type": "code",
      "metadata": {
        "id": "1YbltgJUsH05",
        "colab_type": "code",
        "colab": {
          "base_uri": "https://localhost:8080/",
          "height": 669
        },
        "outputId": "6b4586e2-0884-462b-bf7d-8cdf2296b681"
      },
      "source": [
        "plt.plot(results_ppo)\n",
        "plt.show()\n",
        "\n",
        "######################\n",
        "# Display the video of the last training episode\n",
        "show_video()\n",
        "######################"
      ],
      "execution_count": 10,
      "outputs": [
        {
          "output_type": "display_data",
          "data": {
            "image/png": "[encoded data removed]",
            "text/plain": [
              "<Figure size 432x288 with 1 Axes>"
            ]
          },
          "metadata": {
            "tags": [],
            "needs_background": "light"
          }
        },
        {
          "output_type": "display_data",
          "data": {
            "text/html": [
              "<video alt=\"test\" autoplay \n",
              "                loop controls style=\"height: 400px;\">\n",
              "                <source src=\"data:video/mp4;base64,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\" type=\"video/mp4\" />\n",
              "             </video>"
            ],
            "text/plain": [
              "<IPython.core.display.HTML object>"
            ]
          },
          "metadata": {
            "tags": []
          }
        }
      ]
    },
    {
      "cell_type": "markdown",
      "metadata": {
        "id": "PD73Rb-6la6a",
        "colab_type": "text"
      },
      "source": [
        "### VAE visualization"
      ]
    },
    {
      "cell_type": "code",
      "metadata": {
        "id": "ug6mtBrDloRF",
        "colab_type": "code",
        "colab": {
          "base_uri": "https://localhost:8080/",
          "height": 1000
        },
        "outputId": "97273118-f4a6-4819-8fbf-989cef27619e"
      },
      "source": [
        "from math import cos, sin, radians\n",
        "\n",
        "def point_on_circle(radius, degrees):\n",
        "  '''\n",
        "      Finding the x,y coordinates on circle, based on given angle\n",
        "  '''\n",
        "  \n",
        "  #center of circle, angle in degree and radius of circle\n",
        "  center = [0,0]\n",
        "  angle = radians(degrees)\n",
        "  #x = offsetX + radius * Cosine(radians)\n",
        "  x = center[0] + (radius * cos(angle))\n",
        "  #y = offsetY + radius * Sine(radians)\n",
        "  y = center[1] + (radius * sin(angle))\n",
        "\n",
        "  return [round(x,2), round(y,2)]\n",
        "\n",
        "# set of states we want to visualize\n",
        "# velocities will be zero..\n",
        "\n",
        "radius = 100\n",
        "states = [np.array([0, 0, *point_on_circle(radius,i)]) for i in range(0, 360, 45)]\n",
        "\n",
        "# visualize state with respective action distribution\n",
        "\n",
        "for s in states:\n",
        "  a_dist = get_action_ppo(vae, s)\n",
        "  a_dist = a_dist[1].cpu().numpy()[0]\n",
        "  print(\"state: {}\".format(s))\n",
        "  #print(\"a_dist: {}\".format(a_dist[1]))\n",
        "\n",
        "\n",
        "  fig = plt.figure()\n",
        "  ax = fig.add_axes([0,0,1,1])\n",
        "\n",
        "  moves = [\"stay\", \"right\", \"left\",  \"up\", \"down\"]\n",
        "\n",
        "  ax.bar(moves,a_dist)\n",
        "  plt.show()\n",
        "\n"
      ],
      "execution_count": 11,
      "outputs": [
        {
          "output_type": "stream",
          "text": [
            "state: [  0.   0. 100.   0.]\n"
          ],
          "name": "stdout"
        },
        {
          "output_type": "display_data",
          "data": {
            "image/png": "[encoded data removed]",
            "text/plain": [
              "<Figure size 432x288 with 1 Axes>"
            ]
          },
          "metadata": {
            "tags": [],
            "needs_background": "light"
          }
        },
        {
          "output_type": "stream",
          "text": [
            "state: [ 0.    0.   70.71 70.71]\n"
          ],
          "name": "stdout"
        },
        {
          "output_type": "display_data",
          "data": {
            "image/png": "[encoded data removed]",
            "text/plain": [
              "<Figure size 432x288 with 1 Axes>"
            ]
          },
          "metadata": {
            "tags": [],
            "needs_background": "light"
          }
        },
        {
          "output_type": "stream",
          "text": [
            "state: [  0.   0.   0. 100.]\n"
          ],
          "name": "stdout"
        },
        {
          "output_type": "display_data",
          "data": {
            "image/png": "[encoded data removed]",
            "text/plain": [
              "<Figure size 432x288 with 1 Axes>"
            ]
          },
          "metadata": {
            "tags": [],
            "needs_background": "light"
          }
        },
        {
          "output_type": "stream",
          "text": [
            "state: [  0.     0.   -70.71  70.71]\n"
          ],
          "name": "stdout"
        },
        {
          "output_type": "display_data",
          "data": {
            "image/png": "[encoded data removed]",
            "text/plain": [
              "<Figure size 432x288 with 1 Axes>"
            ]
          },
          "metadata": {
            "tags": [],
            "needs_background": "light"
          }
        },
        {
          "output_type": "stream",
          "text": [
            "state: [   0.    0. -100.    0.]\n"
          ],
          "name": "stdout"
        },
        {
          "output_type": "display_data",
          "data": {
            "image/png": "[encoded data removed]",
            "text/plain": [
              "<Figure size 432x288 with 1 Axes>"
            ]
          },
          "metadata": {
            "tags": [],
            "needs_background": "light"
          }
        },
        {
          "output_type": "stream",
          "text": [
            "state: [  0.     0.   -70.71 -70.71]\n"
          ],
          "name": "stdout"
        },
        {
          "output_type": "display_data",
          "data": {
            "image/png": "[encoded data removed]",
            "text/plain": [
              "<Figure size 432x288 with 1 Axes>"
            ]
          },
          "metadata": {
            "tags": [],
            "needs_background": "light"
          }
        },
        {
          "output_type": "stream",
          "text": [
            "state: [   0.    0.   -0. -100.]\n"
          ],
          "name": "stdout"
        },
        {
          "output_type": "display_data",
          "data": {
            "image/png": "[encoded data removed]",
            "text/plain": [
              "<Figure size 432x288 with 1 Axes>"
            ]
          },
          "metadata": {
            "tags": [],
            "needs_background": "light"
          }
        },
        {
          "output_type": "stream",
          "text": [
            "state: [  0.     0.    70.71 -70.71]\n"
          ],
          "name": "stdout"
        },
        {
          "output_type": "display_data",
          "data": {
            "image/png": "[encoded data removed]",
            "text/plain": [
              "<Figure size 432x288 with 1 Axes>"
            ]
          },
          "metadata": {
            "tags": [],
            "needs_background": "light"
          }
        }
      ]
    },
    {
      "cell_type": "markdown",
      "metadata": {
        "id": "YDF5x4wlidce",
        "colab_type": "text"
      },
      "source": [
        "Unit circle ![alt text](https://wumbo.net/unit-circle-chart/unit-circle-chart.png)"
      ]
    }
  ]
}